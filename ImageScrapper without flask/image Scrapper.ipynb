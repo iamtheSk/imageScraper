{
 "cells": [
  {
   "cell_type": "code",
   "execution_count": 3,
   "id": "772dca86-493a-438a-9200-1d7eba71ef55",
   "metadata": {},
   "outputs": [],
   "source": [
    "#28.02.23  #image scrapp from google images and save into local directory"
   ]
  },
  {
   "cell_type": "code",
   "execution_count": 13,
   "id": "60aae1d5-a61c-4466-9817-18f0bbbeac99",
   "metadata": {},
   "outputs": [],
   "source": [
    "import requests\n",
    "from bs4 import BeautifulSoup as bs\n",
    "import os\n",
    "from urllib.request import urlopen\n",
    "import logging"
   ]
  },
  {
   "cell_type": "code",
   "execution_count": 14,
   "id": "328078fc-2b84-4fb7-a751-a495bdd0e608",
   "metadata": {},
   "outputs": [],
   "source": [
    "save_dir =\"images/\"\n",
    "if not os.path.exists(save_dir):\n",
    "    os.makedirs(save_dir)"
   ]
  },
  {
   "cell_type": "code",
   "execution_count": 15,
   "id": "c4e4d159-0bec-4c9d-99cf-d25e7e7d0425",
   "metadata": {},
   "outputs": [],
   "source": [
    "headers = {\"User-Agent\": \"Mozilla/5.0 (Windows NT 10.0; Win64; x64) AppleWebKit/537.36 (KHTML, like Gecko) Chrome/58.0.3029.110 Safari/537.36\"}"
   ]
  },
  {
   "cell_type": "code",
   "execution_count": 16,
   "id": "795c2722-03f3-46d2-8658-3cd56e2b4ba6",
   "metadata": {},
   "outputs": [],
   "source": [
    "#query = str(input(\"enter what you wnat as image: \"))\n",
    "query = \"cars\" # any name you put here it's act as a image search context \n",
    "response = requests.get(f\"https://www.google.com/search?q={query}&rlz=1C1ONGR_enIN1042IN1042&tbm=isch&sxsrf=AJOqlzWrCHA_9nzLE5f1C-Zh2vA8dmYcqw:1677580888865&source=lnms&sa=X&ved=2ahUKEwjDvdnng7j9AhVScGwGHQY-ASoQ_AUoAnoECAEQBA&biw=1536&bih=735&dpr=1.25\")"
   ]
  },
  {
   "cell_type": "code",
   "execution_count": 17,
   "id": "a3fc3ed8-fd25-451a-8fdc-d9a394a6aa57",
   "metadata": {},
   "outputs": [
    {
     "data": {
      "text/plain": [
       "<Response [200]>"
      ]
     },
     "execution_count": 17,
     "metadata": {},
     "output_type": "execute_result"
    }
   ],
   "source": [
    "response"
   ]
  },
  {
   "cell_type": "code",
   "execution_count": 18,
   "id": "3cd75cf9-763a-4930-a05f-ebe5a8efd012",
   "metadata": {},
   "outputs": [],
   "source": [
    "soup= bs(response.content)"
   ]
  },
  {
   "cell_type": "code",
   "execution_count": 19,
   "id": "d4870be9-be3d-4451-9108-d1f15df43fcb",
   "metadata": {},
   "outputs": [],
   "source": [
    "image_tags=soup.find_all(\"img\")"
   ]
  },
  {
   "cell_type": "code",
   "execution_count": 20,
   "id": "6fb64916-59c9-4bc9-9936-5d0aea33214f",
   "metadata": {},
   "outputs": [],
   "source": [
    "del image_tags[0]"
   ]
  },
  {
   "cell_type": "code",
   "execution_count": 21,
   "id": "9be5d278-ca00-4f39-8741-338b2f46377f",
   "metadata": {},
   "outputs": [
    {
     "data": {
      "text/plain": [
       "20"
      ]
     },
     "execution_count": 21,
     "metadata": {},
     "output_type": "execute_result"
    }
   ],
   "source": [
    "len(image_tags)"
   ]
  },
  {
   "cell_type": "code",
   "execution_count": 22,
   "id": "e3d992d8-a6f9-4fd3-a13f-647d1e858162",
   "metadata": {},
   "outputs": [],
   "source": [
    "image_data_mongo = []\n",
    "\n",
    "for i in image_tags:\n",
    "    image_url =  i[\"src\"]\n",
    "    image_data = requests.get(image_url).content\n",
    "    mydict = {\"index\" : image_url,\"image\" : image_data}\n",
    "    image_data_mongo.append(mydict)\n",
    "   # with open(os.path.join(save_dir,f\"{query}_{image_tags.index(i)}.jpg\" ,\"wb\") as f :\n",
    "    with open(os.path.join(save_dir,f\"{query}_{image_tags.index(i)}.jpg\") , \"wb\") as f :\n",
    "                       f.write(image_data)\n",
    "    "
   ]
  },
  {
   "cell_type": "code",
   "execution_count": null,
   "id": "80e1292d-9485-496e-96eb-16e709574f0f",
   "metadata": {},
   "outputs": [],
   "source": []
  },
  {
   "cell_type": "code",
   "execution_count": null,
   "id": "77593284-0744-44e5-b95f-e5977ed755d9",
   "metadata": {},
   "outputs": [],
   "source": []
  }
 ],
 "metadata": {
  "kernelspec": {
   "display_name": "Python 3 (ipykernel)",
   "language": "python",
   "name": "python3"
  },
  "language_info": {
   "codemirror_mode": {
    "name": "ipython",
    "version": 3
   },
   "file_extension": ".py",
   "mimetype": "text/x-python",
   "name": "python",
   "nbconvert_exporter": "python",
   "pygments_lexer": "ipython3",
   "version": "3.10.8"
  }
 },
 "nbformat": 4,
 "nbformat_minor": 5
}
